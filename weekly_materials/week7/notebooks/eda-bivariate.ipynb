{
 "cells": [
  {
   "cell_type": "markdown",
   "metadata": {},
   "source": [
    "In this lesson, you will learn bivariate exploratory data analysis in Pandas, where the distribution of some features are examined in relation to other features. We will use the same on-time performance of dometics flights as before. The original data for this exercise was downloaded from [Kaggle](https://www.kaggle.com/usdot/flight-delays).\n",
    "\n",
    "\n",
    "\n",
    "We will explore the data in relation to the following questions:\n",
    "\n",
    "1. How does a feature vary with other features?\n",
    "\n",
    "2. How are the features related to a target variable of interest?\n",
    "\n",
    "\n",
    "As the file size is large, and it is easy to run into memory issue, we will be working with only flights departed from Chicago O'Hare airport (ORD) in this exercise."
   ]
  },
  {
   "cell_type": "code",
   "execution_count": 1,
   "metadata": {},
   "outputs": [],
   "source": [
    "import os\n",
    "import pandas as pd\n",
    "import numpy as np\n",
    "import seaborn as sns\n",
    "import matplotlib.pyplot as plt"
   ]
  },
  {
   "cell_type": "code",
   "execution_count": 2,
   "metadata": {},
   "outputs": [],
   "source": [
    "DATA_DIR = \"/home/asimbanskota/t81_577_data_science/weekly_materials/week7/files\""
   ]
  },
  {
   "cell_type": "code",
   "execution_count": 3,
   "metadata": {},
   "outputs": [],
   "source": [
    "pd.set_option(\"display.precision\", 2)"
   ]
  },
  {
   "cell_type": "code",
   "execution_count": 4,
   "metadata": {},
   "outputs": [],
   "source": [
    "df = pd.read_csv(os.path.join(DATA_DIR, 'ORD.csv'))"
   ]
  },
  {
   "cell_type": "code",
   "execution_count": 5,
   "metadata": {},
   "outputs": [
    {
     "data": {
      "text/plain": [
       "(285884, 32)"
      ]
     },
     "execution_count": 5,
     "metadata": {},
     "output_type": "execute_result"
    }
   ],
   "source": [
    "df.shape"
   ]
  },
  {
   "cell_type": "code",
   "execution_count": 6,
   "metadata": {},
   "outputs": [],
   "source": [
    "df_airlines = pd.read_csv(os.path.join(DATA_DIR, 'airlines.csv'))\n",
    "df_airport = pd.read_csv(os.path.join(DATA_DIR, 'airports.csv'))"
   ]
  },
  {
   "cell_type": "markdown",
   "metadata": {},
   "source": [
    "Let's calculate the delay category class as we did in the univariate EDA."
   ]
  },
  {
   "cell_type": "code",
   "execution_count": 7,
   "metadata": {},
   "outputs": [],
   "source": [
    "df['delay_class'] = pd.cut(x=df['DEPARTURE_DELAY'], bins=[df['DEPARTURE_DELAY'].min(), 7, 20, 45, df['DEPARTURE_DELAY'].max()],\n",
    "                            labels=['no_delay', 'small_delay', 'moderate_delay', 'large_delay'])"
   ]
  },
  {
   "cell_type": "markdown",
   "metadata": {},
   "source": [
    "### Flight delay by airlines\n",
    "\n",
    "It is likely that flight delay might be more specific to certain airports as well as airlines. As this dataset is related to the flights departed from ORD airport only, we can't explore the delay patter across airports. But the analysis below for airlines can similarly be applied to all airports data if needed."
   ]
  },
  {
   "cell_type": "markdown",
   "metadata": {},
   "source": [
    "Pandas have several methods such as `groupby`, `pivot` , `pivot_table`, and `crosstab`. Among them, `crosstab` probably provides the easiets and quickeest way of summarizing count data."
   ]
  },
  {
   "cell_type": "markdown",
   "metadata": {},
   "source": [
    "\n",
    "The pandas crosstab function builds a cross-tabulation table that can show the frequency with which certain groups of data appear."
   ]
  },
  {
   "cell_type": "code",
   "execution_count": 8,
   "metadata": {},
   "outputs": [
    {
     "data": {
      "text/html": [
       "<div>\n",
       "<style scoped>\n",
       "    .dataframe tbody tr th:only-of-type {\n",
       "        vertical-align: middle;\n",
       "    }\n",
       "\n",
       "    .dataframe tbody tr th {\n",
       "        vertical-align: top;\n",
       "    }\n",
       "\n",
       "    .dataframe thead th {\n",
       "        text-align: right;\n",
       "    }\n",
       "</style>\n",
       "<table border=\"1\" class=\"dataframe\">\n",
       "  <thead>\n",
       "    <tr style=\"text-align: right;\">\n",
       "      <th>AIRLINE</th>\n",
       "      <th>AA</th>\n",
       "      <th>AS</th>\n",
       "      <th>B6</th>\n",
       "      <th>DL</th>\n",
       "      <th>EV</th>\n",
       "      <th>F9</th>\n",
       "      <th>MQ</th>\n",
       "      <th>NK</th>\n",
       "      <th>OO</th>\n",
       "      <th>UA</th>\n",
       "      <th>US</th>\n",
       "      <th>VX</th>\n",
       "      <th>Total</th>\n",
       "    </tr>\n",
       "    <tr>\n",
       "      <th>delay_class</th>\n",
       "      <th></th>\n",
       "      <th></th>\n",
       "      <th></th>\n",
       "      <th></th>\n",
       "      <th></th>\n",
       "      <th></th>\n",
       "      <th></th>\n",
       "      <th></th>\n",
       "      <th></th>\n",
       "      <th></th>\n",
       "      <th></th>\n",
       "      <th></th>\n",
       "      <th></th>\n",
       "    </tr>\n",
       "  </thead>\n",
       "  <tbody>\n",
       "    <tr>\n",
       "      <th>no_delay</th>\n",
       "      <td>35137</td>\n",
       "      <td>1390</td>\n",
       "      <td>1475</td>\n",
       "      <td>5028</td>\n",
       "      <td>32198</td>\n",
       "      <td>2772</td>\n",
       "      <td>43366</td>\n",
       "      <td>5089</td>\n",
       "      <td>25343</td>\n",
       "      <td>35621</td>\n",
       "      <td>2690</td>\n",
       "      <td>940</td>\n",
       "      <td>191049</td>\n",
       "    </tr>\n",
       "    <tr>\n",
       "      <th>small_delay</th>\n",
       "      <td>5071</td>\n",
       "      <td>156</td>\n",
       "      <td>241</td>\n",
       "      <td>753</td>\n",
       "      <td>3828</td>\n",
       "      <td>541</td>\n",
       "      <td>5565</td>\n",
       "      <td>1467</td>\n",
       "      <td>3637</td>\n",
       "      <td>8229</td>\n",
       "      <td>236</td>\n",
       "      <td>204</td>\n",
       "      <td>29928</td>\n",
       "    </tr>\n",
       "    <tr>\n",
       "      <th>moderate_delay</th>\n",
       "      <td>4386</td>\n",
       "      <td>94</td>\n",
       "      <td>218</td>\n",
       "      <td>553</td>\n",
       "      <td>3104</td>\n",
       "      <td>557</td>\n",
       "      <td>5374</td>\n",
       "      <td>1353</td>\n",
       "      <td>3287</td>\n",
       "      <td>6265</td>\n",
       "      <td>216</td>\n",
       "      <td>131</td>\n",
       "      <td>25538</td>\n",
       "    </tr>\n",
       "    <tr>\n",
       "      <th>large_delay</th>\n",
       "      <td>5176</td>\n",
       "      <td>100</td>\n",
       "      <td>281</td>\n",
       "      <td>602</td>\n",
       "      <td>3673</td>\n",
       "      <td>700</td>\n",
       "      <td>5805</td>\n",
       "      <td>1796</td>\n",
       "      <td>4373</td>\n",
       "      <td>8408</td>\n",
       "      <td>218</td>\n",
       "      <td>99</td>\n",
       "      <td>31231</td>\n",
       "    </tr>\n",
       "    <tr>\n",
       "      <th>Total</th>\n",
       "      <td>49770</td>\n",
       "      <td>1740</td>\n",
       "      <td>2215</td>\n",
       "      <td>6936</td>\n",
       "      <td>42803</td>\n",
       "      <td>4570</td>\n",
       "      <td>60110</td>\n",
       "      <td>9705</td>\n",
       "      <td>36640</td>\n",
       "      <td>58523</td>\n",
       "      <td>3360</td>\n",
       "      <td>1374</td>\n",
       "      <td>277746</td>\n",
       "    </tr>\n",
       "  </tbody>\n",
       "</table>\n",
       "</div>"
      ],
      "text/plain": [
       "AIRLINE            AA    AS    B6    DL     EV    F9     MQ    NK     OO  \\\n",
       "delay_class                                                                \n",
       "no_delay        35137  1390  1475  5028  32198  2772  43366  5089  25343   \n",
       "small_delay      5071   156   241   753   3828   541   5565  1467   3637   \n",
       "moderate_delay   4386    94   218   553   3104   557   5374  1353   3287   \n",
       "large_delay      5176   100   281   602   3673   700   5805  1796   4373   \n",
       "Total           49770  1740  2215  6936  42803  4570  60110  9705  36640   \n",
       "\n",
       "AIRLINE            UA    US    VX   Total  \n",
       "delay_class                                \n",
       "no_delay        35621  2690   940  191049  \n",
       "small_delay      8229   236   204   29928  \n",
       "moderate_delay   6265   216   131   25538  \n",
       "large_delay      8408   218    99   31231  \n",
       "Total           58523  3360  1374  277746  "
      ]
     },
     "execution_count": 8,
     "metadata": {},
     "output_type": "execute_result"
    }
   ],
   "source": [
    "pd.crosstab(df[\"delay_class\"], df[\"AIRLINE\"], margins=True, margins_name=\"Total\")"
   ]
  },
  {
   "cell_type": "markdown",
   "metadata": {},
   "source": [
    "The crosstab results show that the MQ, AA, and UA have the most number of moderate and large delays, but they are also among the big carrieres at ORD. So normalization of data would probably give a better picture."
   ]
  },
  {
   "cell_type": "markdown",
   "metadata": {},
   "source": [
    "Also, it is little difficult to figure out what all those airline codes stand for. Thus, we need to join the airlines data to the dataframe for mapping those codes. "
   ]
  },
  {
   "cell_type": "code",
   "execution_count": 9,
   "metadata": {},
   "outputs": [],
   "source": [
    "df = df.merge(df_airlines, left_on = 'AIRLINE', right_on = 'IATA_CODE', suffixes=('_fl', '_air'))"
   ]
  },
  {
   "cell_type": "code",
   "execution_count": 10,
   "metadata": {},
   "outputs": [
    {
     "data": {
      "text/html": [
       "<div>\n",
       "<style scoped>\n",
       "    .dataframe tbody tr th:only-of-type {\n",
       "        vertical-align: middle;\n",
       "    }\n",
       "\n",
       "    .dataframe tbody tr th {\n",
       "        vertical-align: top;\n",
       "    }\n",
       "\n",
       "    .dataframe thead th {\n",
       "        text-align: right;\n",
       "    }\n",
       "</style>\n",
       "<table border=\"1\" class=\"dataframe\">\n",
       "  <thead>\n",
       "    <tr style=\"text-align: right;\">\n",
       "      <th>AIRLINE_air</th>\n",
       "      <th>Alaska Airlines Inc.</th>\n",
       "      <th>American Airlines Inc.</th>\n",
       "      <th>American Eagle Airlines Inc.</th>\n",
       "      <th>Atlantic Southeast Airlines</th>\n",
       "      <th>Delta Air Lines Inc.</th>\n",
       "      <th>Frontier Airlines Inc.</th>\n",
       "      <th>JetBlue Airways</th>\n",
       "      <th>Skywest Airlines Inc.</th>\n",
       "      <th>Spirit Air Lines</th>\n",
       "      <th>US Airways Inc.</th>\n",
       "      <th>United Air Lines Inc.</th>\n",
       "      <th>Virgin America</th>\n",
       "    </tr>\n",
       "    <tr>\n",
       "      <th>delay_class</th>\n",
       "      <th></th>\n",
       "      <th></th>\n",
       "      <th></th>\n",
       "      <th></th>\n",
       "      <th></th>\n",
       "      <th></th>\n",
       "      <th></th>\n",
       "      <th></th>\n",
       "      <th></th>\n",
       "      <th></th>\n",
       "      <th></th>\n",
       "      <th></th>\n",
       "    </tr>\n",
       "  </thead>\n",
       "  <tbody>\n",
       "    <tr>\n",
       "      <th>no_delay</th>\n",
       "      <td>0.80</td>\n",
       "      <td>0.71</td>\n",
       "      <td>0.72</td>\n",
       "      <td>0.75</td>\n",
       "      <td>0.72</td>\n",
       "      <td>0.61</td>\n",
       "      <td>0.67</td>\n",
       "      <td>0.69</td>\n",
       "      <td>0.52</td>\n",
       "      <td>0.80</td>\n",
       "      <td>0.61</td>\n",
       "      <td>0.68</td>\n",
       "    </tr>\n",
       "    <tr>\n",
       "      <th>small_delay</th>\n",
       "      <td>0.09</td>\n",
       "      <td>0.10</td>\n",
       "      <td>0.09</td>\n",
       "      <td>0.09</td>\n",
       "      <td>0.11</td>\n",
       "      <td>0.12</td>\n",
       "      <td>0.11</td>\n",
       "      <td>0.10</td>\n",
       "      <td>0.15</td>\n",
       "      <td>0.07</td>\n",
       "      <td>0.14</td>\n",
       "      <td>0.15</td>\n",
       "    </tr>\n",
       "    <tr>\n",
       "      <th>moderate_delay</th>\n",
       "      <td>0.05</td>\n",
       "      <td>0.09</td>\n",
       "      <td>0.09</td>\n",
       "      <td>0.07</td>\n",
       "      <td>0.08</td>\n",
       "      <td>0.12</td>\n",
       "      <td>0.10</td>\n",
       "      <td>0.09</td>\n",
       "      <td>0.14</td>\n",
       "      <td>0.06</td>\n",
       "      <td>0.11</td>\n",
       "      <td>0.10</td>\n",
       "    </tr>\n",
       "    <tr>\n",
       "      <th>large_delay</th>\n",
       "      <td>0.06</td>\n",
       "      <td>0.10</td>\n",
       "      <td>0.10</td>\n",
       "      <td>0.09</td>\n",
       "      <td>0.09</td>\n",
       "      <td>0.15</td>\n",
       "      <td>0.13</td>\n",
       "      <td>0.12</td>\n",
       "      <td>0.19</td>\n",
       "      <td>0.06</td>\n",
       "      <td>0.14</td>\n",
       "      <td>0.07</td>\n",
       "    </tr>\n",
       "  </tbody>\n",
       "</table>\n",
       "</div>"
      ],
      "text/plain": [
       "AIRLINE_air     Alaska Airlines Inc.  American Airlines Inc.  \\\n",
       "delay_class                                                    \n",
       "no_delay                        0.80                    0.71   \n",
       "small_delay                     0.09                    0.10   \n",
       "moderate_delay                  0.05                    0.09   \n",
       "large_delay                     0.06                    0.10   \n",
       "\n",
       "AIRLINE_air     American Eagle Airlines Inc.  Atlantic Southeast Airlines  \\\n",
       "delay_class                                                                 \n",
       "no_delay                                0.72                         0.75   \n",
       "small_delay                             0.09                         0.09   \n",
       "moderate_delay                          0.09                         0.07   \n",
       "large_delay                             0.10                         0.09   \n",
       "\n",
       "AIRLINE_air     Delta Air Lines Inc.  Frontier Airlines Inc.  JetBlue Airways  \\\n",
       "delay_class                                                                     \n",
       "no_delay                        0.72                    0.61             0.67   \n",
       "small_delay                     0.11                    0.12             0.11   \n",
       "moderate_delay                  0.08                    0.12             0.10   \n",
       "large_delay                     0.09                    0.15             0.13   \n",
       "\n",
       "AIRLINE_air     Skywest Airlines Inc.  Spirit Air Lines  US Airways Inc.  \\\n",
       "delay_class                                                                \n",
       "no_delay                         0.69              0.52             0.80   \n",
       "small_delay                      0.10              0.15             0.07   \n",
       "moderate_delay                   0.09              0.14             0.06   \n",
       "large_delay                      0.12              0.19             0.06   \n",
       "\n",
       "AIRLINE_air     United Air Lines Inc.  Virgin America  \n",
       "delay_class                                            \n",
       "no_delay                         0.61            0.68  \n",
       "small_delay                      0.14            0.15  \n",
       "moderate_delay                   0.11            0.10  \n",
       "large_delay                      0.14            0.07  "
      ]
     },
     "execution_count": 10,
     "metadata": {},
     "output_type": "execute_result"
    }
   ],
   "source": [
    "pd.crosstab(df[\"delay_class\"], df[\"AIRLINE_air\"], normalize = 'columns')"
   ]
  },
  {
   "cell_type": "markdown",
   "metadata": {},
   "source": [
    "Determine the mean delay values by airlines using `groupby` and then sort the average delay in the descending order.\n",
    "\n",
    "Note: the same thing can be achieved using `crosstab` too.\n"
   ]
  },
  {
   "cell_type": "code",
   "execution_count": 11,
   "metadata": {},
   "outputs": [],
   "source": [
    "df_delay = df[df['delay_class']!='no_delay']"
   ]
  },
  {
   "cell_type": "code",
   "execution_count": 12,
   "metadata": {},
   "outputs": [
    {
     "data": {
      "text/plain": [
       "AIRLINE_air\n",
       "Frontier Airlines Inc.          61.81\n",
       "JetBlue Airways                 61.32\n",
       "Delta Air Lines Inc.            56.25\n",
       "Spirit Air Lines                54.25\n",
       "United Air Lines Inc.           52.89\n",
       "Skywest Airlines Inc.           51.40\n",
       "American Airlines Inc.          51.02\n",
       "US Airways Inc.                 50.08\n",
       "Alaska Airlines Inc.            49.29\n",
       "Atlantic Southeast Airlines     48.54\n",
       "American Eagle Airlines Inc.    45.96\n",
       "Virgin America                  39.62\n",
       "Name: DEPARTURE_DELAY, dtype: float64"
      ]
     },
     "execution_count": 12,
     "metadata": {},
     "output_type": "execute_result"
    }
   ],
   "source": [
    "df_delay.groupby('AIRLINE_air')['DEPARTURE_DELAY'].mean().sort_values(ascending = False)"
   ]
  },
  {
   "cell_type": "markdown",
   "metadata": {},
   "source": [
    "### Visualization\n",
    "\n",
    "#### Categorical plots\n",
    "\n",
    "The relationship between two or more features can be analyzed graphically in many ways. Categorical scatterplot can used to to vizualize the scatter of quantitative values (such as delays) against categorical features (such as airlines). `catplot` method by seaborn can be used for the purpose."
   ]
  },
  {
   "cell_type": "code",
   "execution_count": null,
   "metadata": {},
   "outputs": [],
   "source": [
    "#plt.figure(figsize = (20,6))\n",
    "sns.catplot(x=\"AIRLINE_fl\", y=\"DEPARTURE_DELAY\", kind = \"swarm\",  data=df_delay, height=5, aspect=2);"
   ]
  },
  {
   "cell_type": "markdown",
   "metadata": {},
   "source": [
    "Catplot method can also be used to create boxplots for multiple comparision of distribution across different categories"
   ]
  },
  {
   "cell_type": "code",
   "execution_count": null,
   "metadata": {},
   "outputs": [],
   "source": [
    "sns.catplot(x=\"AIRLINE_fl\", y=\"DEPARTURE_DELAY\", data=df_delay, kind=\"box\", height=5, aspect=2);"
   ]
  },
  {
   "cell_type": "markdown",
   "metadata": {},
   "source": [
    "\n",
    "It might be helful sometimes to show an estimate of the central tendency of the values by categories rather than distribution. "
   ]
  },
  {
   "cell_type": "markdown",
   "metadata": {},
   "source": [
    "Plot the average (mean) delay by airlines."
   ]
  },
  {
   "cell_type": "code",
   "execution_count": null,
   "metadata": {},
   "outputs": [],
   "source": [
    "sns.catplot(x=\"AIRLINE_fl\", y=\"DEPARTURE_DELAY\", data=df_delay, kind=\"bar\", height=5, aspect=2);"
   ]
  },
  {
   "cell_type": "markdown",
   "metadata": {},
   "source": [
    "Plot the count of delays by delay categories and by airlines."
   ]
  },
  {
   "cell_type": "code",
   "execution_count": null,
   "metadata": {},
   "outputs": [],
   "source": [
    "sns.catplot(x=\"AIRLINE_fl\",  data=df, kind=\"count\", hue=\"delay_class\",height=5, aspect=2);"
   ]
  },
  {
   "cell_type": "markdown",
   "metadata": {},
   "source": [
    "#### Scatter plots"
   ]
  },
  {
   "cell_type": "markdown",
   "metadata": {},
   "source": [
    "Scatter plot can be used to explore the relationship between continious variables. One thing we could check is how the departure delay varies by time and days. But we will do that in the next section of temporal analysis. Here, we will inspect if the DEPARTURE_DELAY depends upon the travel distance to the destination."
   ]
  },
  {
   "cell_type": "code",
   "execution_count": null,
   "metadata": {},
   "outputs": [],
   "source": [
    "sns.scatterplot(x=\"DISTANCE\",  y = \"DEPARTURE_DELAY\", data=df, hue=\"AIRLINE_fl\");"
   ]
  },
  {
   "cell_type": "code",
   "execution_count": null,
   "metadata": {},
   "outputs": [],
   "source": []
  }
 ],
 "metadata": {
  "kernelspec": {
   "display_name": "Python 3",
   "language": "python",
   "name": "python3"
  },
  "language_info": {
   "codemirror_mode": {
    "name": "ipython",
    "version": 3
   },
   "file_extension": ".py",
   "mimetype": "text/x-python",
   "name": "python",
   "nbconvert_exporter": "python",
   "pygments_lexer": "ipython3",
   "version": "3.8.1"
  }
 },
 "nbformat": 4,
 "nbformat_minor": 4
}
